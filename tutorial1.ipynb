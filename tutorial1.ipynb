{
 "cells": [
  {
   "cell_type": "code",
   "execution_count": 1,
   "source": [
    "import os"
   ],
   "outputs": [],
   "metadata": {}
  },
  {
   "cell_type": "markdown",
   "source": [
    "Check Elasticsearch connection:"
   ],
   "metadata": {}
  },
  {
   "cell_type": "code",
   "execution_count": 2,
   "source": [
    "!curl localhost:9200/"
   ],
   "outputs": [
    {
     "output_type": "stream",
     "name": "stdout",
     "text": [
      "{\n",
      "  \"name\" : \"MacBook-Pro.lan\",\n",
      "  \"cluster_name\" : \"elasticsearch_nacosta\",\n",
      "  \"cluster_uuid\" : \"9VZtKkQrQSu0TJCBOGXe9w\",\n",
      "  \"version\" : {\n",
      "    \"number\" : \"7.10.2-SNAPSHOT\",\n",
      "    \"build_flavor\" : \"oss\",\n",
      "    \"build_type\" : \"tar\",\n",
      "    \"build_hash\" : \"unknown\",\n",
      "    \"build_date\" : \"2021-01-16T01:41:27.115673Z\",\n",
      "    \"build_snapshot\" : true,\n",
      "    \"lucene_version\" : \"8.7.0\",\n",
      "    \"minimum_wire_compatibility_version\" : \"6.8.0\",\n",
      "    \"minimum_index_compatibility_version\" : \"6.0.0-beta1\"\n",
      "  },\n",
      "  \"tagline\" : \"You Know, for Search\"\n",
      "}\n"
     ]
    }
   ],
   "metadata": {}
  },
  {
   "cell_type": "markdown",
   "source": [
    "Check more stats:"
   ],
   "metadata": {}
  },
  {
   "cell_type": "code",
   "execution_count": 7,
   "source": [
    "!curl -XGET localhost:9200/_cluster/health\n",
    "#!curl -XGET localhost:9200/_cluster/state\n",
    "#!curl -XGET localhost:9200/_cluster/stats"
   ],
   "outputs": [
    {
     "output_type": "stream",
     "name": "stdout",
     "text": [
      "{\"cluster_name\":\"elasticsearch_nacosta\",\"status\":\"yellow\",\"timed_out\":false,\"number_of_nodes\":1,\"number_of_data_nodes\":1,\"active_primary_shards\":2,\"active_shards\":2,\"relocating_shards\":0,\"initializing_shards\":0,\"unassigned_shards\":1,\"delayed_unassigned_shards\":0,\"number_of_pending_tasks\":0,\"number_of_in_flight_fetch\":0,\"task_max_waiting_in_queue_millis\":0,\"active_shards_percent_as_number\":66.66666666666666}"
     ]
    }
   ],
   "metadata": {}
  },
  {
   "cell_type": "markdown",
   "source": [
    "Populate one index"
   ],
   "metadata": {}
  },
  {
   "cell_type": "code",
   "execution_count": 8,
   "source": [
    "!curl -XPUT localhost:9200/v1"
   ],
   "outputs": [
    {
     "output_type": "stream",
     "name": "stdout",
     "text": [
      "{\"acknowledged\":true,\"shards_acknowledged\":true,\"index\":\"v1\"}"
     ]
    }
   ],
   "metadata": {}
  },
  {
   "cell_type": "code",
   "execution_count": null,
   "source": [
    "!curl curl -X PUT \"localhost:9200/index1/doc/_bulk?pretty\" -H 'Content-Type: application/x-ndjson' --data-binary @test_data.ndjson"
   ],
   "outputs": [],
   "metadata": {}
  },
  {
   "cell_type": "markdown",
   "source": [],
   "metadata": {}
  }
 ],
 "metadata": {
  "orig_nbformat": 4,
  "language_info": {
   "name": "python",
   "version": "3.8.11",
   "mimetype": "text/x-python",
   "codemirror_mode": {
    "name": "ipython",
    "version": 3
   },
   "pygments_lexer": "ipython3",
   "nbconvert_exporter": "python",
   "file_extension": ".py"
  },
  "kernelspec": {
   "name": "python3",
   "display_name": "Python 3.8.11 64-bit ('su_lab': conda)"
  },
  "interpreter": {
   "hash": "ef05315d5f008dd046167e10c6ddffaed5c65a031bde4d25d7d1e2bf86440ab1"
  }
 },
 "nbformat": 4,
 "nbformat_minor": 2
}